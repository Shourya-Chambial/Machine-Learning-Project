{
  "nbformat": 4,
  "nbformat_minor": 0,
  "metadata": {
    "colab": {
      "name": "DecisionTreeClassifier for Offensive Language Detection.ipynb",
      "provenance": [],
      "collapsed_sections": []
    },
    "kernelspec": {
      "name": "python3",
      "display_name": "Python 3"
    },
    "language_info": {
      "name": "python"
    }
  },
  "cells": [
    {
      "cell_type": "code",
      "source": [
        "#Mount our google drive\n",
        "from google.colab import drive\n",
        "drive.mount('/content/drive')\n"
      ],
      "metadata": {
        "colab": {
          "base_uri": "https://localhost:8080/"
        },
        "id": "S-fmia-97nAW",
        "outputId": "0ce3151d-3274-4773-8b46-7ee069e1b850"
      },
      "execution_count": null,
      "outputs": [
        {
          "output_type": "stream",
          "name": "stdout",
          "text": [
            "Mounted at /content/drive\n"
          ]
        }
      ]
    },
    {
      "cell_type": "code",
      "source": [
        "from google_drive_downloader import GoogleDriveDownloader as gdd\n",
        "url = '1hiayuEMSil4WUD8Z43dNP_O_ZrlsO3Dg'\n",
        "gdd.download_file_from_google_drive(file_id = url,dest_path='./merged_dataset.csv',unzip=True)"
      ],
      "metadata": {
        "colab": {
          "base_uri": "https://localhost:8080/"
        },
        "id": "7mvDZELJ7xFN",
        "outputId": "f82e83e0-2951-44a4-eaaf-0a3db023465a"
      },
      "execution_count": null,
      "outputs": [
        {
          "output_type": "stream",
          "name": "stdout",
          "text": [
            "Downloading 1hiayuEMSil4WUD8Z43dNP_O_ZrlsO3Dg into ./merged_dataset.csv... Done.\n",
            "Unzipping..."
          ]
        },
        {
          "output_type": "stream",
          "name": "stderr",
          "text": [
            "/usr/local/lib/python3.7/dist-packages/google_drive_downloader/google_drive_downloader.py:78: UserWarning: Ignoring `unzip` since \"1hiayuEMSil4WUD8Z43dNP_O_ZrlsO3Dg\" does not look like a valid zip file\n",
            "  warnings.warn('Ignoring `unzip` since \"{}\" does not look like a valid zip file'.format(file_id))\n"
          ]
        }
      ]
    },
    {
      "cell_type": "code",
      "execution_count": null,
      "metadata": {
        "id": "3jkkbUZXhX-g"
      },
      "outputs": [],
      "source": [
        "import pandas as pd\n",
        "import numpy as np\n",
        "import matplotlib.pyplot as plt\n",
        "import seaborn as sns\n",
        "from sklearn.model_selection import train_test_split\n",
        "from sklearn.tree import DecisionTreeClassifier\n",
        "from sklearn.feature_extraction.text import CountVectorizer\n",
        "from sklearn.metrics import f1_score, accuracy_score, precision_score, recall_score, make_scorer"
      ]
    },
    {
      "cell_type": "code",
      "source": [
        "df = pd.read_csv('/content/merged_dataset.csv')\n",
        "df.head(5)"
      ],
      "metadata": {
        "colab": {
          "base_uri": "https://localhost:8080/",
          "height": 206
        },
        "id": "qChL7IsX704y",
        "outputId": "723fb368-6a18-4d96-9675-42e010e214aa"
      },
      "execution_count": null,
      "outputs": [
        {
          "output_type": "execute_result",
          "data": {
            "text/plain": [
              "   Unnamed: 0  label                                          full_text\n",
              "0           0      0  !!! rt @mayasolovely: woman complain clean hou...\n",
              "1           1      1  !!!!! rt @mleew17: boy dat cold...tyga dwn bad...\n",
              "2           2      1  !!!!!!! rt @urkindofbrand dawg!!!! rt @80sbaby...\n",
              "3           3      1  !!!!!!!!! rt @c_g_anderson: @viva_bas look lik...\n",
              "4           4      1  !!!!!!!!!!!!! rt @shenikaroberts: shit hear mi..."
            ],
            "text/html": [
              "\n",
              "  <div id=\"df-81183f64-7317-4def-90ae-81d9691f9293\">\n",
              "    <div class=\"colab-df-container\">\n",
              "      <div>\n",
              "<style scoped>\n",
              "    .dataframe tbody tr th:only-of-type {\n",
              "        vertical-align: middle;\n",
              "    }\n",
              "\n",
              "    .dataframe tbody tr th {\n",
              "        vertical-align: top;\n",
              "    }\n",
              "\n",
              "    .dataframe thead th {\n",
              "        text-align: right;\n",
              "    }\n",
              "</style>\n",
              "<table border=\"1\" class=\"dataframe\">\n",
              "  <thead>\n",
              "    <tr style=\"text-align: right;\">\n",
              "      <th></th>\n",
              "      <th>Unnamed: 0</th>\n",
              "      <th>label</th>\n",
              "      <th>full_text</th>\n",
              "    </tr>\n",
              "  </thead>\n",
              "  <tbody>\n",
              "    <tr>\n",
              "      <th>0</th>\n",
              "      <td>0</td>\n",
              "      <td>0</td>\n",
              "      <td>!!! rt @mayasolovely: woman complain clean hou...</td>\n",
              "    </tr>\n",
              "    <tr>\n",
              "      <th>1</th>\n",
              "      <td>1</td>\n",
              "      <td>1</td>\n",
              "      <td>!!!!! rt @mleew17: boy dat cold...tyga dwn bad...</td>\n",
              "    </tr>\n",
              "    <tr>\n",
              "      <th>2</th>\n",
              "      <td>2</td>\n",
              "      <td>1</td>\n",
              "      <td>!!!!!!! rt @urkindofbrand dawg!!!! rt @80sbaby...</td>\n",
              "    </tr>\n",
              "    <tr>\n",
              "      <th>3</th>\n",
              "      <td>3</td>\n",
              "      <td>1</td>\n",
              "      <td>!!!!!!!!! rt @c_g_anderson: @viva_bas look lik...</td>\n",
              "    </tr>\n",
              "    <tr>\n",
              "      <th>4</th>\n",
              "      <td>4</td>\n",
              "      <td>1</td>\n",
              "      <td>!!!!!!!!!!!!! rt @shenikaroberts: shit hear mi...</td>\n",
              "    </tr>\n",
              "  </tbody>\n",
              "</table>\n",
              "</div>\n",
              "      <button class=\"colab-df-convert\" onclick=\"convertToInteractive('df-81183f64-7317-4def-90ae-81d9691f9293')\"\n",
              "              title=\"Convert this dataframe to an interactive table.\"\n",
              "              style=\"display:none;\">\n",
              "        \n",
              "  <svg xmlns=\"http://www.w3.org/2000/svg\" height=\"24px\"viewBox=\"0 0 24 24\"\n",
              "       width=\"24px\">\n",
              "    <path d=\"M0 0h24v24H0V0z\" fill=\"none\"/>\n",
              "    <path d=\"M18.56 5.44l.94 2.06.94-2.06 2.06-.94-2.06-.94-.94-2.06-.94 2.06-2.06.94zm-11 1L8.5 8.5l.94-2.06 2.06-.94-2.06-.94L8.5 2.5l-.94 2.06-2.06.94zm10 10l.94 2.06.94-2.06 2.06-.94-2.06-.94-.94-2.06-.94 2.06-2.06.94z\"/><path d=\"M17.41 7.96l-1.37-1.37c-.4-.4-.92-.59-1.43-.59-.52 0-1.04.2-1.43.59L10.3 9.45l-7.72 7.72c-.78.78-.78 2.05 0 2.83L4 21.41c.39.39.9.59 1.41.59.51 0 1.02-.2 1.41-.59l7.78-7.78 2.81-2.81c.8-.78.8-2.07 0-2.86zM5.41 20L4 18.59l7.72-7.72 1.47 1.35L5.41 20z\"/>\n",
              "  </svg>\n",
              "      </button>\n",
              "      \n",
              "  <style>\n",
              "    .colab-df-container {\n",
              "      display:flex;\n",
              "      flex-wrap:wrap;\n",
              "      gap: 12px;\n",
              "    }\n",
              "\n",
              "    .colab-df-convert {\n",
              "      background-color: #E8F0FE;\n",
              "      border: none;\n",
              "      border-radius: 50%;\n",
              "      cursor: pointer;\n",
              "      display: none;\n",
              "      fill: #1967D2;\n",
              "      height: 32px;\n",
              "      padding: 0 0 0 0;\n",
              "      width: 32px;\n",
              "    }\n",
              "\n",
              "    .colab-df-convert:hover {\n",
              "      background-color: #E2EBFA;\n",
              "      box-shadow: 0px 1px 2px rgba(60, 64, 67, 0.3), 0px 1px 3px 1px rgba(60, 64, 67, 0.15);\n",
              "      fill: #174EA6;\n",
              "    }\n",
              "\n",
              "    [theme=dark] .colab-df-convert {\n",
              "      background-color: #3B4455;\n",
              "      fill: #D2E3FC;\n",
              "    }\n",
              "\n",
              "    [theme=dark] .colab-df-convert:hover {\n",
              "      background-color: #434B5C;\n",
              "      box-shadow: 0px 1px 3px 1px rgba(0, 0, 0, 0.15);\n",
              "      filter: drop-shadow(0px 1px 2px rgba(0, 0, 0, 0.3));\n",
              "      fill: #FFFFFF;\n",
              "    }\n",
              "  </style>\n",
              "\n",
              "      <script>\n",
              "        const buttonEl =\n",
              "          document.querySelector('#df-81183f64-7317-4def-90ae-81d9691f9293 button.colab-df-convert');\n",
              "        buttonEl.style.display =\n",
              "          google.colab.kernel.accessAllowed ? 'block' : 'none';\n",
              "\n",
              "        async function convertToInteractive(key) {\n",
              "          const element = document.querySelector('#df-81183f64-7317-4def-90ae-81d9691f9293');\n",
              "          const dataTable =\n",
              "            await google.colab.kernel.invokeFunction('convertToInteractive',\n",
              "                                                     [key], {});\n",
              "          if (!dataTable) return;\n",
              "\n",
              "          const docLinkHtml = 'Like what you see? Visit the ' +\n",
              "            '<a target=\"_blank\" href=https://colab.research.google.com/notebooks/data_table.ipynb>data table notebook</a>'\n",
              "            + ' to learn more about interactive tables.';\n",
              "          element.innerHTML = '';\n",
              "          dataTable['output_type'] = 'display_data';\n",
              "          await google.colab.output.renderOutput(dataTable, element);\n",
              "          const docLink = document.createElement('div');\n",
              "          docLink.innerHTML = docLinkHtml;\n",
              "          element.appendChild(docLink);\n",
              "        }\n",
              "      </script>\n",
              "    </div>\n",
              "  </div>\n",
              "  "
            ]
          },
          "metadata": {},
          "execution_count": 3
        }
      ]
    },
    {
      "cell_type": "code",
      "source": [
        "X_train, X_test, y_train, y_test = train_test_split(df['full_text'],  df['label'],\n",
        "                                                    random_state=42)\n",
        "\n",
        "print('Number of rows in the total set: {}'.format(df.shape[0]))\n",
        "print('Number of rows in the training set: {}'.format(X_train.shape[0]))\n",
        "print('Number of rows in the test set: {}'.format(X_test.shape[0]))"
      ],
      "metadata": {
        "colab": {
          "base_uri": "https://localhost:8080/"
        },
        "id": "7EmjOGQDh_ns",
        "outputId": "2b3f8823-4c62-402a-cbda-dfa2ff601f45"
      },
      "execution_count": null,
      "outputs": [
        {
          "output_type": "stream",
          "name": "stdout",
          "text": [
            "Number of rows in the total set: 27030\n",
            "Number of rows in the training set: 20272\n",
            "Number of rows in the test set: 6758\n"
          ]
        }
      ]
    },
    {
      "cell_type": "code",
      "source": [
        "# Instantiate the CountVectorizer method\n",
        "count_vector = CountVectorizer(stop_words = 'english', lowercase = True)\n",
        "\n",
        "# Fit the training data and then return the matrix\n",
        "training_data = count_vector.fit_transform(X_train)\n",
        "\n",
        "# Transform testing data and return the matrix. Note we are not fitting the testing data into the CountVectorizer()\n",
        "testing_data = count_vector.transform(X_test)\n"
      ],
      "metadata": {
        "id": "eAjQm2rciSme"
      },
      "execution_count": null,
      "outputs": []
    },
    {
      "cell_type": "code",
      "source": [
        "print('training_data: ',training_data)\n",
        "print('testing_data: ',testing_data)"
      ],
      "metadata": {
        "colab": {
          "base_uri": "https://localhost:8080/"
        },
        "id": "d8x8WjMJijaa",
        "outputId": "d4e07ec5-76a2-4a26-8ff7-23c37e74c30e"
      },
      "execution_count": null,
      "outputs": [
        {
          "output_type": "stream",
          "name": "stdout",
          "text": [
            "training_data:    (0, 22925)\t1\n",
            "  (0, 23922)\t1\n",
            "  (0, 26121)\t1\n",
            "  (0, 4354)\t1\n",
            "  (0, 23962)\t1\n",
            "  (0, 14640)\t1\n",
            "  (0, 390)\t4\n",
            "  (1, 2824)\t1\n",
            "  (1, 11614)\t1\n",
            "  (1, 7691)\t1\n",
            "  (1, 19075)\t1\n",
            "  (1, 18345)\t1\n",
            "  (1, 29356)\t1\n",
            "  (1, 7466)\t1\n",
            "  (1, 5618)\t1\n",
            "  (1, 13409)\t1\n",
            "  (1, 12696)\t1\n",
            "  (1, 12671)\t1\n",
            "  (1, 16228)\t1\n",
            "  (1, 19197)\t1\n",
            "  (1, 25723)\t1\n",
            "  (1, 7173)\t1\n",
            "  (2, 4354)\t1\n",
            "  (2, 12544)\t1\n",
            "  (3, 22925)\t1\n",
            "  :\t:\n",
            "  (20269, 13870)\t1\n",
            "  (20269, 13866)\t1\n",
            "  (20269, 29823)\t1\n",
            "  (20269, 5028)\t1\n",
            "  (20269, 2778)\t2\n",
            "  (20269, 12179)\t1\n",
            "  (20269, 16890)\t1\n",
            "  (20270, 22925)\t1\n",
            "  (20270, 1409)\t1\n",
            "  (20270, 21626)\t1\n",
            "  (20270, 26668)\t1\n",
            "  (20270, 20634)\t1\n",
            "  (20270, 3123)\t1\n",
            "  (20270, 10217)\t1\n",
            "  (20270, 2951)\t1\n",
            "  (20270, 5537)\t1\n",
            "  (20270, 14964)\t1\n",
            "  (20270, 4225)\t1\n",
            "  (20270, 14451)\t1\n",
            "  (20271, 4354)\t1\n",
            "  (20271, 23962)\t1\n",
            "  (20271, 2399)\t2\n",
            "  (20271, 23328)\t1\n",
            "  (20271, 1405)\t3\n",
            "  (20271, 19449)\t1\n",
            "testing_data:    (0, 8614)\t1\n",
            "  (0, 8943)\t1\n",
            "  (0, 10803)\t1\n",
            "  (0, 17237)\t1\n",
            "  (0, 20475)\t1\n",
            "  (0, 21857)\t1\n",
            "  (0, 22392)\t1\n",
            "  (0, 23610)\t1\n",
            "  (0, 24092)\t1\n",
            "  (0, 25147)\t1\n",
            "  (0, 28098)\t2\n",
            "  (0, 28725)\t1\n",
            "  (0, 28729)\t1\n",
            "  (1, 3228)\t1\n",
            "  (1, 4106)\t1\n",
            "  (1, 4456)\t3\n",
            "  (1, 6728)\t1\n",
            "  (1, 10933)\t1\n",
            "  (1, 12564)\t1\n",
            "  (1, 13690)\t1\n",
            "  (1, 13965)\t2\n",
            "  (1, 14230)\t1\n",
            "  (1, 17496)\t1\n",
            "  (1, 17800)\t1\n",
            "  (1, 17804)\t1\n",
            "  :\t:\n",
            "  (6752, 17319)\t1\n",
            "  (6753, 4354)\t1\n",
            "  (6753, 7400)\t1\n",
            "  (6753, 10012)\t1\n",
            "  (6753, 14895)\t1\n",
            "  (6753, 22925)\t1\n",
            "  (6753, 26608)\t1\n",
            "  (6753, 26661)\t1\n",
            "  (6754, 4354)\t1\n",
            "  (6754, 18977)\t1\n",
            "  (6754, 29380)\t2\n",
            "  (6755, 405)\t1\n",
            "  (6755, 11281)\t1\n",
            "  (6755, 15876)\t1\n",
            "  (6755, 17174)\t1\n",
            "  (6755, 24694)\t1\n",
            "  (6756, 2669)\t1\n",
            "  (6756, 3615)\t1\n",
            "  (6756, 4354)\t1\n",
            "  (6756, 6214)\t1\n",
            "  (6756, 11543)\t1\n",
            "  (6756, 16611)\t1\n",
            "  (6756, 22622)\t1\n",
            "  (6756, 22925)\t1\n",
            "  (6757, 7349)\t1\n"
          ]
        }
      ]
    },
    {
      "cell_type": "code",
      "source": [
        "import time\n",
        "X_train = training_data\n",
        "X_test = testing_data\n",
        "learner = DecisionTreeClassifier()\n",
        "results = {}\n",
        "results['Algorithm']='DecisionTreeClassifier'\n",
        "# Fit the learner:\n",
        "start = time.time() # Get start time\n",
        "print(\"Training start\")\n",
        "learner = learner.fit(X_train, y_train)\n",
        "end = time.time() # Get end time\n",
        "print(\"Training end\")\n",
        "\n",
        "# Store the training time\n",
        "results['Training Time'] = end - start\n",
        "\n",
        "print(\"Prediction start\")\n",
        "start = time.time() # Get start time\n",
        "predictions_test = learner.predict(X_test)\n",
        "predictions_train = learner.predict(X_train)\n",
        "end = time.time() # Get end time\n",
        "print(\"Prediction end\")\n",
        "\n",
        "# Store the prediction time\n",
        "results['Prediction Time'] = end - start\n",
        "\n",
        "# Compute the Accuracy on Test Set\n",
        "results['Accuracy: Test'] = accuracy_score(y_test, predictions_test)\n",
        "\n",
        "# Compute the Accuracy on Training Set\n",
        "results['Accuracy: Train'] = accuracy_score(y_train, predictions_train)\n",
        "\n",
        "# Compute the F1 Score on Test Set\n",
        "results['F1 Score: Test'] = f1_score(y_test, predictions_test)\n",
        "\n",
        "# Compute the F1 Score on Training Set\n",
        "results['F1 Score: Train'] = f1_score(y_train, predictions_train)\n",
        "\n",
        "# Compute the Precision on Test Set\n",
        "results['Precision: Test'] = precision_score(y_test, predictions_test)\n",
        "\n",
        "# Compute the Precision on Training Set\n",
        "results['Precision: Train'] = precision_score(y_train, predictions_train)\n",
        "\n",
        "# Compute the Recall on Test Set\n",
        "results['Recall: Test'] = recall_score(y_test, predictions_test)\n",
        "\n",
        "# Compute the Recall on Training Set\n",
        "results['Recall: Train'] = recall_score(y_train, predictions_train)\n",
        "\n",
        "# Success\n",
        "print(\"Training {} finished in {:.2f} sec\".format(learner.__class__.__name__, results['Training Time']))\n",
        "print('----------------------------------------------------')\n",
        "results = pd.DataFrame([results])\n",
        "results = results.reindex(columns = ['Algorithm', 'Accuracy: Test', 'Precision: Test', 'Recall: Test', 'F1 Score: Test', 'Prediction Time',\n",
        "                          'Accuracy: Train', 'Precision: Train', 'Recall: Train', 'F1 Score: Train', 'Training Time'])"
      ],
      "metadata": {
        "colab": {
          "base_uri": "https://localhost:8080/"
        },
        "id": "yBa9r7bIixsz",
        "outputId": "01ce0137-0598-4342-9c90-64d88c0bc14a"
      },
      "execution_count": null,
      "outputs": [
        {
          "output_type": "stream",
          "name": "stdout",
          "text": [
            "Training start\n",
            "Training end\n",
            "Prediction start\n",
            "Prediction end\n",
            "Training DecisionTreeClassifier finished in 1.43 sec\n",
            "----------------------------------------------------\n"
          ]
        }
      ]
    },
    {
      "cell_type": "code",
      "source": [
        "results"
      ],
      "metadata": {
        "colab": {
          "base_uri": "https://localhost:8080/",
          "height": 142
        },
        "id": "24n63eb_mnlD",
        "outputId": "f542927a-0900-4b3b-c91c-472b8666589f"
      },
      "execution_count": null,
      "outputs": [
        {
          "output_type": "execute_result",
          "data": {
            "text/plain": [
              "                Algorithm  Accuracy: Test  Precision: Test  Recall: Test  \\\n",
              "0  DecisionTreeClassifier        0.923498          0.95486      0.948642   \n",
              "\n",
              "   F1 Score: Test  Prediction Time  Accuracy: Train  Precision: Train  \\\n",
              "0        0.951741         0.011374         0.998865          0.999938   \n",
              "\n",
              "   Recall: Train  F1 Score: Train  Training Time  \n",
              "0       0.998639         0.999288       1.432861  "
            ],
            "text/html": [
              "\n",
              "  <div id=\"df-16b5e55a-9d1a-4e73-8d9b-d493e001b40b\">\n",
              "    <div class=\"colab-df-container\">\n",
              "      <div>\n",
              "<style scoped>\n",
              "    .dataframe tbody tr th:only-of-type {\n",
              "        vertical-align: middle;\n",
              "    }\n",
              "\n",
              "    .dataframe tbody tr th {\n",
              "        vertical-align: top;\n",
              "    }\n",
              "\n",
              "    .dataframe thead th {\n",
              "        text-align: right;\n",
              "    }\n",
              "</style>\n",
              "<table border=\"1\" class=\"dataframe\">\n",
              "  <thead>\n",
              "    <tr style=\"text-align: right;\">\n",
              "      <th></th>\n",
              "      <th>Algorithm</th>\n",
              "      <th>Accuracy: Test</th>\n",
              "      <th>Precision: Test</th>\n",
              "      <th>Recall: Test</th>\n",
              "      <th>F1 Score: Test</th>\n",
              "      <th>Prediction Time</th>\n",
              "      <th>Accuracy: Train</th>\n",
              "      <th>Precision: Train</th>\n",
              "      <th>Recall: Train</th>\n",
              "      <th>F1 Score: Train</th>\n",
              "      <th>Training Time</th>\n",
              "    </tr>\n",
              "  </thead>\n",
              "  <tbody>\n",
              "    <tr>\n",
              "      <th>0</th>\n",
              "      <td>DecisionTreeClassifier</td>\n",
              "      <td>0.923498</td>\n",
              "      <td>0.95486</td>\n",
              "      <td>0.948642</td>\n",
              "      <td>0.951741</td>\n",
              "      <td>0.011374</td>\n",
              "      <td>0.998865</td>\n",
              "      <td>0.999938</td>\n",
              "      <td>0.998639</td>\n",
              "      <td>0.999288</td>\n",
              "      <td>1.432861</td>\n",
              "    </tr>\n",
              "  </tbody>\n",
              "</table>\n",
              "</div>\n",
              "      <button class=\"colab-df-convert\" onclick=\"convertToInteractive('df-16b5e55a-9d1a-4e73-8d9b-d493e001b40b')\"\n",
              "              title=\"Convert this dataframe to an interactive table.\"\n",
              "              style=\"display:none;\">\n",
              "        \n",
              "  <svg xmlns=\"http://www.w3.org/2000/svg\" height=\"24px\"viewBox=\"0 0 24 24\"\n",
              "       width=\"24px\">\n",
              "    <path d=\"M0 0h24v24H0V0z\" fill=\"none\"/>\n",
              "    <path d=\"M18.56 5.44l.94 2.06.94-2.06 2.06-.94-2.06-.94-.94-2.06-.94 2.06-2.06.94zm-11 1L8.5 8.5l.94-2.06 2.06-.94-2.06-.94L8.5 2.5l-.94 2.06-2.06.94zm10 10l.94 2.06.94-2.06 2.06-.94-2.06-.94-.94-2.06-.94 2.06-2.06.94z\"/><path d=\"M17.41 7.96l-1.37-1.37c-.4-.4-.92-.59-1.43-.59-.52 0-1.04.2-1.43.59L10.3 9.45l-7.72 7.72c-.78.78-.78 2.05 0 2.83L4 21.41c.39.39.9.59 1.41.59.51 0 1.02-.2 1.41-.59l7.78-7.78 2.81-2.81c.8-.78.8-2.07 0-2.86zM5.41 20L4 18.59l7.72-7.72 1.47 1.35L5.41 20z\"/>\n",
              "  </svg>\n",
              "      </button>\n",
              "      \n",
              "  <style>\n",
              "    .colab-df-container {\n",
              "      display:flex;\n",
              "      flex-wrap:wrap;\n",
              "      gap: 12px;\n",
              "    }\n",
              "\n",
              "    .colab-df-convert {\n",
              "      background-color: #E8F0FE;\n",
              "      border: none;\n",
              "      border-radius: 50%;\n",
              "      cursor: pointer;\n",
              "      display: none;\n",
              "      fill: #1967D2;\n",
              "      height: 32px;\n",
              "      padding: 0 0 0 0;\n",
              "      width: 32px;\n",
              "    }\n",
              "\n",
              "    .colab-df-convert:hover {\n",
              "      background-color: #E2EBFA;\n",
              "      box-shadow: 0px 1px 2px rgba(60, 64, 67, 0.3), 0px 1px 3px 1px rgba(60, 64, 67, 0.15);\n",
              "      fill: #174EA6;\n",
              "    }\n",
              "\n",
              "    [theme=dark] .colab-df-convert {\n",
              "      background-color: #3B4455;\n",
              "      fill: #D2E3FC;\n",
              "    }\n",
              "\n",
              "    [theme=dark] .colab-df-convert:hover {\n",
              "      background-color: #434B5C;\n",
              "      box-shadow: 0px 1px 3px 1px rgba(0, 0, 0, 0.15);\n",
              "      filter: drop-shadow(0px 1px 2px rgba(0, 0, 0, 0.3));\n",
              "      fill: #FFFFFF;\n",
              "    }\n",
              "  </style>\n",
              "\n",
              "      <script>\n",
              "        const buttonEl =\n",
              "          document.querySelector('#df-16b5e55a-9d1a-4e73-8d9b-d493e001b40b button.colab-df-convert');\n",
              "        buttonEl.style.display =\n",
              "          google.colab.kernel.accessAllowed ? 'block' : 'none';\n",
              "\n",
              "        async function convertToInteractive(key) {\n",
              "          const element = document.querySelector('#df-16b5e55a-9d1a-4e73-8d9b-d493e001b40b');\n",
              "          const dataTable =\n",
              "            await google.colab.kernel.invokeFunction('convertToInteractive',\n",
              "                                                     [key], {});\n",
              "          if (!dataTable) return;\n",
              "\n",
              "          const docLinkHtml = 'Like what you see? Visit the ' +\n",
              "            '<a target=\"_blank\" href=https://colab.research.google.com/notebooks/data_table.ipynb>data table notebook</a>'\n",
              "            + ' to learn more about interactive tables.';\n",
              "          element.innerHTML = '';\n",
              "          dataTable['output_type'] = 'display_data';\n",
              "          await google.colab.output.renderOutput(dataTable, element);\n",
              "          const docLink = document.createElement('div');\n",
              "          docLink.innerHTML = docLinkHtml;\n",
              "          element.appendChild(docLink);\n",
              "        }\n",
              "      </script>\n",
              "    </div>\n",
              "  </div>\n",
              "  "
            ]
          },
          "metadata": {},
          "execution_count": 8
        }
      ]
    },
    {
      "cell_type": "code",
      "source": [
        "from sklearn.metrics import roc_curve, auc, roc_auc_score\n",
        "from tensorflow import keras\n",
        "\n",
        "model = learner\n",
        "y_pred = model.predict(X_test)\n",
        "# print(y_pred)\n",
        "print(np.array(y_test))\n",
        "nn_fpr_keras, nn_tpr_keras, nn_thresholds_keras = roc_curve(np.array(y_test), y_pred)\n",
        "auc_keras = auc(nn_fpr_keras, nn_tpr_keras)\n",
        "plt.plot(nn_fpr_keras, nn_tpr_keras, linestyle='--', label='DecisionTree (auc = %0.3f)' % auc_keras)\n",
        "plt.title('AUC-ROC curve - DecisionTree')\n",
        "plt.xlabel('False Positive Rate')\n",
        "plt.ylabel('True Positive rate')\n",
        "auc_score = roc_auc_score(np.array(y_test), y_pred)"
      ],
      "metadata": {
        "colab": {
          "base_uri": "https://localhost:8080/",
          "height": 312
        },
        "id": "feOkDz-S-jP4",
        "outputId": "69ae01b6-97fc-41a0-e27c-0d3d118308cd"
      },
      "execution_count": null,
      "outputs": [
        {
          "output_type": "stream",
          "name": "stdout",
          "text": [
            "[1 0 0 ... 1 1 1]\n"
          ]
        },
        {
          "output_type": "display_data",
          "data": {
            "text/plain": [
              "<Figure size 432x288 with 1 Axes>"
            ],
            "image/png": "[encoded data removed]"
          },
          "metadata": {
            "needs_background": "light"
          }
        }
      ]
    }
  ]
}